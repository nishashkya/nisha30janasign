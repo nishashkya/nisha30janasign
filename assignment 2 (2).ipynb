{
 "cells": [
  {
   "cell_type": "code",
   "execution_count": null,
   "id": "3d790536-eb00-437c-9cb2-f0ecf8905cc6",
   "metadata": {},
   "outputs": [],
   "source": [
    "#ques1_answer"
   ]
  },
  {
   "cell_type": "code",
   "execution_count": 9,
   "id": "e38cd161-e7f3-49d0-a550-48874fda8545",
   "metadata": {},
   "outputs": [
    {
     "name": "stdin",
     "output_type": "stream",
     "text": [
      "enter the marks 67\n"
     ]
    },
    {
     "name": "stdout",
     "output_type": "stream",
     "text": [
      "C\n"
     ]
    }
   ],
   "source": [
    "marks = int(input(\"enter the marks\"))\n",
    "grade=0\n",
    "if marks >90:\n",
    "        print(\"A\")\n",
    "elif marks>80 and marks<=90:\n",
    "    print (\"B\")\n",
    "elif marks>60 and marks<=80:\n",
    "    print(\"C\")\n",
    "else:\n",
    "        print(\"D\")\n",
    "\n",
    "  "
   ]
  },
  {
   "cell_type": "code",
   "execution_count": null,
   "id": "d8cc088b-dde8-49b2-9ac3-9375fa9737c0",
   "metadata": {},
   "outputs": [],
   "source": [
    "#ques2_answer"
   ]
  },
  {
   "cell_type": "code",
   "execution_count": 48,
   "id": "91477ef4-fe5f-46a4-a3b9-6fe4a7923eed",
   "metadata": {},
   "outputs": [
    {
     "name": "stdin",
     "output_type": "stream",
     "text": [
      "enter the price of bike 200000\n"
     ]
    },
    {
     "name": "stdout",
     "output_type": "stream",
     "text": [
      "tax to be paid 30000.0\n"
     ]
    }
   ],
   "source": [
    "price= int(input(\"enter the price of bike\"))\n",
    "Tax=0\n",
    "if price>100000:\n",
    "           Tax =  15/100*price\n",
    "elif price>50000 and price<=100000:\n",
    "           Tax = 10/100*price \n",
    "else :\n",
    "           Tax= 5/100*price\n",
    "print (\"tax to be paid\" , Tax)\n",
    "           "
   ]
  },
  {
   "cell_type": "code",
   "execution_count": 2,
   "id": "0d802bbf-c6f8-468d-9ff7-810eb8bf9df3",
   "metadata": {},
   "outputs": [
    {
     "name": "stdin",
     "output_type": "stream",
     "text": [
      "enter city Delhi\n"
     ]
    },
    {
     "name": "stdout",
     "output_type": "stream",
     "text": [
      "Red Fort\n"
     ]
    }
   ],
   "source": [
    "#ques_3 Answer:\n",
    "city = input(\"enter city\")\n",
    "if city== \"Delhi\":\n",
    "    print (\"Red Fort\")\n",
    "elif city == \"Agra\" :\n",
    "    print(\"Taj Mahal\")\n",
    "elif city == \"Jaipur\":\n",
    "    print (\" Jal Mahal\")\n",
    "else:\n",
    "    print(\" enter the valid city \")"
   ]
  },
  {
   "cell_type": "code",
   "execution_count": 1,
   "id": "5b1f618d-fff6-46c4-bf29-6cb9c7525061",
   "metadata": {},
   "outputs": [
    {
     "name": "stdout",
     "output_type": "stream",
     "text": [
      "3 times given number can be divided by 3 before it is less than or equal to 10\n"
     ]
    }
   ],
   "source": [
    "#ques_4 Answer:\n",
    "given_number = 210\n",
    "count = 0\n",
    "while given_number>10:\n",
    "    given_number = given_number/3\n",
    "    count = count +1\n",
    "print(count,\"times given number can be divided by 3 before it is less than or equal to 10\")\n"
   ]
  },
  {
   "cell_type": "code",
   "execution_count": null,
   "id": "587a5646-8cf8-4792-8baa-d88e9a2e7888",
   "metadata": {},
   "outputs": [],
   "source": [
    "#ques5_answer \n",
    "we use while loop  to run a block code until a certain condition is met. Here, A while loop evaluates the condition.\n",
    "If the condition evaluates to True , the code inside the while loop is executed.\n",
    "In short while loop body is executed after the given condition is evaluated .\n",
    "\n",
    "\n",
    "For example, if we want to sum the integers from 1 to 20.example is given below:\n",
    "in the given example n is the end limit of integer you want to sum ,i is the variable from where you want to start the sum\n",
    " here while loop execute itself until the given condition proves wrong.\n",
    "     we have sum =0 when while loop executes itself it become sum= 0+1 =1 and i becomes 1+1=2\n",
    "        then while loop executes itself and condition is true so it will execute in the same way again and again until the condition becomes false. \n",
    "        "
   ]
  },
  {
   "cell_type": "code",
   "execution_count": 29,
   "id": "4b0a8bcf-e070-4d20-a64d-ddf90a304689",
   "metadata": {},
   "outputs": [
    {
     "name": "stdin",
     "output_type": "stream",
     "text": [
      "enter the limit 20\n"
     ]
    },
    {
     "name": "stdout",
     "output_type": "stream",
     "text": [
      "210\n"
     ]
    }
   ],
   "source": [
    "#answer_5 example:\n",
    "n=int(input(\"enter the limit\"))\n",
    "sum=0\n",
    "i = 1\n",
    "while i<=20:\n",
    "      sum= sum+i\n",
    "      i= i+1\n",
    "print(sum)"
   ]
  },
  {
   "cell_type": "code",
   "execution_count": 6,
   "id": "67661331-5a04-4cc2-bf5b-b226bd6f09b8",
   "metadata": {},
   "outputs": [
    {
     "name": "stdout",
     "output_type": "stream",
     "text": [
      "*\n",
      "*\n",
      "*\n",
      "*\n",
      "*\n"
     ]
    }
   ],
   "source": [
    "# ques6_answer 1st pattern\n",
    "i=1\n",
    "while i<=5:\n",
    "    print(\"*\")\n",
    "    i=i+1"
   ]
  },
  {
   "cell_type": "code",
   "execution_count": 7,
   "id": "6d6c1582-33d6-4219-94b9-a563b38b45f2",
   "metadata": {},
   "outputs": [
    {
     "name": "stdout",
     "output_type": "stream",
     "text": [
      "*****"
     ]
    }
   ],
   "source": [
    "#Ans_6 2nd pattern\n",
    "i=1\n",
    "while i<=5:\n",
    "    print(\"*\",end =\"\")\n",
    "    i = i+1\n",
    "    \n",
    "    "
   ]
  },
  {
   "cell_type": "code",
   "execution_count": 25,
   "id": "69073d44-4695-41f7-8ab4-a7f4722e4e6d",
   "metadata": {},
   "outputs": [
    {
     "name": "stdin",
     "output_type": "stream",
     "text": [
      "enter the no. of rows 6\n"
     ]
    },
    {
     "name": "stdout",
     "output_type": "stream",
     "text": [
      "     * \n",
      "    * * \n",
      "   * * * \n",
      "  * * * * \n",
      " * * * * * \n",
      "* * * * * * \n"
     ]
    }
   ],
   "source": [
    "#Ans_6 3rd pattern\n",
    "num=int(input(\"enter the no. of rows\"))\n",
    "row =0\n",
    "while row<num:\n",
    "    space=num-row-1\n",
    "    while space>0:\n",
    "        print(end=\" \")\n",
    "        space = space-1\n",
    "    star = row +1\n",
    "    while star>0:\n",
    "        print(\"*\",end=\" \")\n",
    "        star = star-1\n",
    "    row = row+1\n",
    "    print()\n",
    "        \n",
    "        \n",
    "    "
   ]
  },
  {
   "cell_type": "code",
   "execution_count": 46,
   "id": "1568c2b4-971b-44db-9719-9389691c6fe3",
   "metadata": {},
   "outputs": [
    {
     "name": "stdout",
     "output_type": "stream",
     "text": [
      "10\n",
      "9\n",
      "8\n",
      "7\n",
      "6\n",
      "5\n",
      "4\n",
      "3\n",
      "2\n",
      "1\n"
     ]
    }
   ],
   "source": [
    "#ques7_answer\n",
    "i=10\n",
    "while i>=1:\n",
    "    print(i)\n",
    "    i=i-1     "
   ]
  },
  {
   "cell_type": "code",
   "execution_count": 49,
   "id": "0a4d8a06-1737-4a4c-8f22-3df84fe2a60e",
   "metadata": {},
   "outputs": [
    {
     "name": "stdout",
     "output_type": "stream",
     "text": [
      "10\n",
      "9\n",
      "8\n",
      "7\n",
      "6\n",
      "5\n",
      "4\n",
      "3\n",
      "2\n",
      "1\n"
     ]
    }
   ],
   "source": [
    "#ques8_answer\n",
    "i=10\n",
    "while i>=1:\n",
    "    print(i)\n",
    "    i=i-1     "
   ]
  },
  {
   "cell_type": "code",
   "execution_count": null,
   "id": "514848ef-78c2-474f-b43e-f090ad4be557",
   "metadata": {},
   "outputs": [],
   "source": []
  }
 ],
 "metadata": {
  "kernelspec": {
   "display_name": "Python 3 (ipykernel)",
   "language": "python",
   "name": "python3"
  },
  "language_info": {
   "codemirror_mode": {
    "name": "ipython",
    "version": 3
   },
   "file_extension": ".py",
   "mimetype": "text/x-python",
   "name": "python",
   "nbconvert_exporter": "python",
   "pygments_lexer": "ipython3",
   "version": "3.10.6"
  }
 },
 "nbformat": 4,
 "nbformat_minor": 5
}
